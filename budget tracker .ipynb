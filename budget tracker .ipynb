{
 "cells": [
  {
   "cell_type": "code",
   "execution_count": null,
   "id": "05ec1b88-d0a6-4601-8cd1-bfed02484486",
   "metadata": {},
   "outputs": [],
   "source": []
  },
  {
   "cell_type": "code",
   "execution_count": 1,
   "id": "882e0edb-05af-4854-a6eb-d4534d48ad35",
   "metadata": {},
   "outputs": [
    {
     "name": "stdout",
     "output_type": "stream",
     "text": [
      "\n",
      "Personal Budget Tracker\n",
      "1. Add Income\n",
      "2. Add Expense\n",
      "3. View Entries\n",
      "4. Delete Entry\n",
      "5. Exit\n"
     ]
    },
    {
     "name": "stdin",
     "output_type": "stream",
     "text": [
      "Choose an option:  2\n",
      "Enter expense amount:  20000\n",
      "Enter expense category:  clothes\n",
      "Enter description:  its to good \n"
     ]
    },
    {
     "name": "stdout",
     "output_type": "stream",
     "text": [
      "\n",
      "Personal Budget Tracker\n",
      "1. Add Income\n",
      "2. Add Expense\n",
      "3. View Entries\n",
      "4. Delete Entry\n",
      "5. Exit\n"
     ]
    },
    {
     "name": "stdin",
     "output_type": "stream",
     "text": [
      "Choose an option:  footwear\n"
     ]
    },
    {
     "name": "stdout",
     "output_type": "stream",
     "text": [
      "Invalid choice. Please try again.\n",
      "\n",
      "Personal Budget Tracker\n",
      "1. Add Income\n",
      "2. Add Expense\n",
      "3. View Entries\n",
      "4. Delete Entry\n",
      "5. Exit\n"
     ]
    },
    {
     "name": "stdin",
     "output_type": "stream",
     "text": [
      "Choose an option:  3\n"
     ]
    },
    {
     "name": "stdout",
     "output_type": "stream",
     "text": [
      "\n",
      "Income Entries:\n",
      "\n",
      "Expense Entries:\n",
      "Date: 2024-08-02, Amount: 20000.0, Category: clothes, Description: its to good \n",
      "\n",
      "\n",
      "Personal Budget Tracker\n",
      "1. Add Income\n",
      "2. Add Expense\n",
      "3. View Entries\n",
      "4. Delete Entry\n",
      "5. Exit\n"
     ]
    },
    {
     "name": "stdin",
     "output_type": "stream",
     "text": [
      "Choose an option:  4\n",
      "Enter 'income' or 'expenses' to delete an entry:  income\n",
      "Enter the index of the entry to delete:  4\n"
     ]
    },
    {
     "name": "stdout",
     "output_type": "stream",
     "text": [
      "Invalid entry type or index.\n",
      "\n",
      "Personal Budget Tracker\n",
      "1. Add Income\n",
      "2. Add Expense\n",
      "3. View Entries\n",
      "4. Delete Entry\n",
      "5. Exit\n"
     ]
    },
    {
     "name": "stdin",
     "output_type": "stream",
     "text": [
      "Choose an option:  3\n"
     ]
    },
    {
     "name": "stdout",
     "output_type": "stream",
     "text": [
      "\n",
      "Income Entries:\n",
      "\n",
      "Expense Entries:\n",
      "Date: 2024-08-02, Amount: 20000.0, Category: clothes, Description: its to good \n",
      "\n",
      "\n",
      "Personal Budget Tracker\n",
      "1. Add Income\n",
      "2. Add Expense\n",
      "3. View Entries\n",
      "4. Delete Entry\n",
      "5. Exit\n"
     ]
    },
    {
     "name": "stdin",
     "output_type": "stream",
     "text": [
      "Choose an option:  3\n"
     ]
    },
    {
     "name": "stdout",
     "output_type": "stream",
     "text": [
      "\n",
      "Income Entries:\n",
      "\n",
      "Expense Entries:\n",
      "Date: 2024-08-02, Amount: 20000.0, Category: clothes, Description: its to good \n",
      "\n",
      "\n",
      "Personal Budget Tracker\n",
      "1. Add Income\n",
      "2. Add Expense\n",
      "3. View Entries\n",
      "4. Delete Entry\n",
      "5. Exit\n"
     ]
    },
    {
     "name": "stdin",
     "output_type": "stream",
     "text": [
      "Choose an option:  5\n"
     ]
    },
    {
     "name": "stdout",
     "output_type": "stream",
     "text": [
      "Exiting the program.\n"
     ]
    }
   ],
   "source": [
    "import json\n",
    "import os\n",
    "from datetime import datetime\n",
    "\n",
    "# Constants\n",
    "DATA_FILE = \"budget_data.json\"\n",
    "\n",
    "# Initialize data structure\n",
    "data = {\n",
    "    \"income\": [],\n",
    "    \"expenses\": []\n",
    "}\n",
    "\n",
    "# Load data from JSON file\n",
    "def load_data():\n",
    "    global data\n",
    "    if os.path.exists(DATA_FILE):\n",
    "        with open(DATA_FILE, \"r\") as file:\n",
    "            data = json.load(file)\n",
    "    else:\n",
    "        save_data()\n",
    "\n",
    "# Save data to JSON file\n",
    "def save_data():\n",
    "    with open(DATA_FILE, \"w\") as file:\n",
    "        json.dump(data, file, indent=4)\n",
    "\n",
    "# Add income entry\n",
    "def add_income(amount, category, description):\n",
    "    entry = {\n",
    "        \"amount\": amount,\n",
    "        \"category\": category,\n",
    "        \"description\": description,\n",
    "        \"date\": datetime.now().strftime(\"%Y-%m-%d\")\n",
    "    }\n",
    "    data[\"income\"].append(entry)\n",
    "    save_data()\n",
    "\n",
    "# Add expense entry\n",
    "def add_expense(amount, category, description):\n",
    "    entry = {\n",
    "        \"amount\": amount,\n",
    "        \"category\": category,\n",
    "        \"description\": description,\n",
    "        \"date\": datetime.now().strftime(\"%Y-%m-%d\")\n",
    "    }\n",
    "    data[\"expenses\"].append(entry)\n",
    "    save_data()\n",
    "\n",
    "# Display all entries\n",
    "def view_entries():\n",
    "    print(\"\\nIncome Entries:\")\n",
    "    for entry in data[\"income\"]:\n",
    "        print(f\"Date: {entry['date']}, Amount: {entry['amount']}, Category: {entry['category']}, Description: {entry['description']}\")\n",
    "    \n",
    "    print(\"\\nExpense Entries:\")\n",
    "    for entry in data[\"expenses\"]:\n",
    "        print(f\"Date: {entry['date']}, Amount: {entry['amount']}, Category: {entry['category']}, Description: {entry['description']}\")\n",
    "    \n",
    "    print()\n",
    "\n",
    "# Delete an entry (by index)\n",
    "def delete_entry(entry_type, index):\n",
    "    if entry_type in data and 0 <= index < len(data[entry_type]):\n",
    "        del data[entry_type][index]\n",
    "        save_data()\n",
    "    else:\n",
    "        print(\"Invalid entry type or index.\")\n",
    "\n",
    "# CLI Menu\n",
    "def menu():\n",
    "    while True:\n",
    "        print(\"\\nPersonal Budget Tracker\")\n",
    "        print(\"1. Add Income\")\n",
    "        print(\"2. Add Expense\")\n",
    "        print(\"3. View Entries\")\n",
    "        print(\"4. Delete Entry\")\n",
    "        print(\"5. Exit\")\n",
    "\n",
    "        choice = input(\"Choose an option: \")\n",
    "\n",
    "        if choice == \"1\":\n",
    "            amount = float(input(\"Enter income amount: \"))\n",
    "            category = input(\"Enter income category: \")\n",
    "            description = input(\"Enter description: \")\n",
    "            add_income(amount, category, description)\n",
    "        \n",
    "        elif choice == \"2\":\n",
    "            amount = float(input(\"Enter expense amount: \"))\n",
    "            category = input(\"Enter expense category: \")\n",
    "            description = input(\"Enter description: \")\n",
    "            add_expense(amount, category, description)\n",
    "        \n",
    "        elif choice == \"3\":\n",
    "            view_entries()\n",
    "        \n",
    "        elif choice == \"4\":\n",
    "            entry_type = input(\"Enter 'income' or 'expenses' to delete an entry: \")\n",
    "            index = int(input(\"Enter the index of the entry to delete: \"))\n",
    "            delete_entry(entry_type, index)\n",
    "        \n",
    "        elif choice == \"5\":\n",
    "            print(\"Exiting the program.\")\n",
    "            break\n",
    "        \n",
    "        else:\n",
    "            print(\"Invalid choice. Please try again.\")\n",
    "\n",
    "if __name__ == \"__main__\":\n",
    "    load_data()\n",
    "    menu()\n"
   ]
  },
  {
   "cell_type": "code",
   "execution_count": null,
   "id": "c5d1bf07-5ed7-4f7f-aabc-9993bb627daf",
   "metadata": {},
   "outputs": [],
   "source": []
  },
  {
   "cell_type": "code",
   "execution_count": 3,
   "id": "a9ead817-2602-4c4e-93e0-b349e79ed945",
   "metadata": {},
   "outputs": [
    {
     "name": "stdout",
     "output_type": "stream",
     "text": [
      "Requirement already satisfied: pygame in c:\\users\\sonali\\anaconda3\\lib\\site-packages (2.6.0)\n",
      "Note: you may need to restart the kernel to use updated packages.\n"
     ]
    }
   ],
   "source": [
    "pip install pygame\n"
   ]
  },
  {
   "cell_type": "code",
   "execution_count": 6,
   "id": "0d79cc6d-5ad8-4cd7-9df3-47245d1ca9cb",
   "metadata": {},
   "outputs": [
    {
     "name": "stdout",
     "output_type": "stream",
     "text": [
      "pygame 2.6.0 (SDL 2.28.4, Python 3.11.7)\n",
      "Hello from the pygame community. https://www.pygame.org/contribute.html\n"
     ]
    }
   ],
   "source": [
    "import pygame\n",
    "import sys\n",
    "import random\n",
    "\n",
    "# Initialize Pygame\n",
    "pygame.init()\n",
    "\n",
    "# Screen dimensions\n",
    "SCREEN_WIDTH = 400\n",
    "SCREEN_HEIGHT = 600\n",
    "\n",
    "# Set up the display\n",
    "screen = pygame.display.set_mode((SCREEN_WIDTH, SCREEN_HEIGHT))\n",
    "pygame.display.set_caption(\"Flappy Bird\")\n",
    "\n",
    "# Set up clock\n",
    "clock = pygame.time.Clock()\n"
   ]
  },
  {
   "cell_type": "code",
   "execution_count": 27,
   "id": "bc610a21-b74b-40f0-9c29-4f3f90f16f1e",
   "metadata": {},
   "outputs": [],
   "source": [
    "import pygame\n",
    "import sys\n",
    "import random\n",
    "import time\n",
    "\n",
    "# Initialize Pygame\n",
    "pygame.init()\n",
    "\n",
    "# Screen dimensions\n",
    "SCREEN_WIDTH = 400\n",
    "SCREEN_HEIGHT = 600\n",
    "\n",
    "# Set up the display\n",
    "screen = pygame.display.set_mode((SCREEN_WIDTH, SCREEN_HEIGHT))\n",
    "pygame.display.set_caption(\"Flappy Bird\")\n",
    "\n",
    "# Set up clock\n",
    "clock = pygame.time.Clock()\n",
    "\n",
    "# Colors\n",
    "WHITE = (255, 255, 255)\n",
    "BLUE = (0, 191, 255)\n",
    "GREEN = (0, 255, 0)\n",
    "RED = (255, 0, 0)\n",
    "\n",
    "# Bird class with simple rectangle\n",
    "class Bird:\n",
    "    def __init__(self):\n",
    "        self.width = 34\n",
    "        self.height = 24\n",
    "        self.x = 50\n",
    "        self.y = SCREEN_HEIGHT // 2\n",
    "        self.gravity = 0.6\n",
    "        self.lift = -10\n",
    "        self.velocity = 0\n",
    "\n",
    "    def update(self):\n",
    "        self.velocity += self.gravity\n",
    "        self.y += self.velocity\n",
    "\n",
    "        if self.y > SCREEN_HEIGHT - self.height:\n",
    "            self.y = SCREEN_HEIGHT - self.height\n",
    "            self.velocity = 0\n",
    "\n",
    "        if self.y < 0:\n",
    "            self.y = 0\n",
    "            self.velocity = 0\n",
    "\n",
    "    def jump(self):\n",
    "        self.velocity = self.lift\n",
    "\n",
    "    def draw(self):\n",
    "        pygame.draw.rect(screen, RED, (self.x, self.y, self.width, self.height))\n",
    "\n",
    "# Pipe class with simple rectangles\n",
    "class Pipe:\n",
    "    def __init__(self):\n",
    "        self.x = SCREEN_WIDTH\n",
    "        self.gap = 150\n",
    "        self.width = 50\n",
    "        self.top_height = random.randint(50, SCREEN_HEIGHT // 2)\n",
    "        self.bottom_height = SCREEN_HEIGHT - self.top_height - self.gap\n",
    "        self.speed = 3\n",
    "\n",
    "    def update(self):\n",
    "        self.x -= self.speed\n",
    "\n",
    "    def draw(self):\n",
    "        pygame.draw.rect(screen, GREEN, (self.x, 0, self.width, self.top_height))\n",
    "        pygame.draw.rect(screen, GREEN, (self.x, SCREEN_HEIGHT - self.bottom_height, self.width, self.bottom_height))\n",
    "\n",
    "    def offscreen(self):\n",
    "        return self.x < -self.width\n",
    "\n",
    "    def collide(self, bird):\n",
    "        bird_rect = pygame.Rect(bird.x, bird.y, bird.width, bird.height)\n",
    "        top_pipe_rect = pygame.Rect(self.x, 0, self.width, self.top_height)\n",
    "        bottom_pipe_rect = pygame.Rect(self.x, SCREEN_HEIGHT - self.bottom_height, self.width, self.bottom_height)\n",
    "\n",
    "        return bird_rect.colliderect(top_pipe_rect) or bird_rect.colliderect(bottom_pipe_rect)\n",
    "\n",
    "# Main game loop with 10-minute limit\n",
    "def main():\n",
    "    bird = Bird()\n",
    "    pipes = []\n",
    "    score = 0\n",
    "\n",
    "    start_time = time.time()  # Track the start time\n",
    "    running = True\n",
    "\n",
    "    while running:\n",
    "        clock.tick(30)\n",
    "        screen.fill(BLUE)\n",
    "\n",
    "        # Check if 10 minutes have passed\n",
    "        if time.time() - start_time > 10 * 60:\n",
    "            print(\"Game Over: 10 minutes have passed!\")\n",
    "            running = False\n",
    "\n",
    "        # Event handling\n",
    "        for event in pygame.event.get():\n",
    "            if event.type == pygame.QUIT:\n",
    "                running = False\n",
    "            if event.type == pygame.KEYDOWN:\n",
    "                if event.key == pygame.K_SPACE:\n",
    "                    bird.jump()\n",
    "\n",
    "        # Update bird and pipes\n",
    "        bird.update()\n",
    "        bird.draw()\n",
    "\n",
    "        if len(pipes) == 0 or pipes[-1].x < SCREEN_WIDTH // 2:\n",
    "            pipes.append(Pipe())\n",
    "\n",
    "        for pipe in pipes:\n",
    "            pipe.update()\n",
    "            pipe.draw()\n",
    "            if pipe.collide(bird):\n",
    "                running = False\n",
    "            if pipe.x < bird.x and not hasattr(pipe, 'passed'):\n",
    "                score += 1\n",
    "                pipe.passed = True\n",
    "\n",
    "        pipes = [pipe for pipe in pipes if not pipe.offscreen()]\n",
    "\n",
    "        # Display score\n",
    "         \n",
    "        font = pygame.font.Font(None, 36)\n",
    "        text = font.render(f\"Score: {score}\", True, WHITE)\n",
    "        screen.blit(text, (10, 10))\n",
    "\n",
    "        pygame.display.flip()\n",
    "\n",
    "    pygame.quit()\n",
    "\n",
    "if __name__ == \"__main__\":\n",
    "    main()\n"
   ]
  },
  {
   "cell_type": "code",
   "execution_count": null,
   "id": "c2278863-7478-4933-95b0-6569dcbb6409",
   "metadata": {},
   "outputs": [],
   "source": []
  },
  {
   "cell_type": "code",
   "execution_count": null,
   "id": "9b0fb9fa-71ff-4c0e-ac54-07a7688c1112",
   "metadata": {},
   "outputs": [],
   "source": []
  },
  {
   "cell_type": "code",
   "execution_count": null,
   "id": "11a09c32-5704-4678-8e03-292e1f0f1def",
   "metadata": {},
   "outputs": [],
   "source": []
  },
  {
   "cell_type": "code",
   "execution_count": null,
   "id": "fbd5e632-a52e-4b0d-855c-5ccdf680d30a",
   "metadata": {},
   "outputs": [],
   "source": []
  },
  {
   "cell_type": "code",
   "execution_count": null,
   "id": "ecc567c9-e880-4125-84bc-d0b3c880a428",
   "metadata": {},
   "outputs": [],
   "source": []
  }
 ],
 "metadata": {
  "kernelspec": {
   "display_name": "Python 3 (ipykernel)",
   "language": "python",
   "name": "python3"
  },
  "language_info": {
   "codemirror_mode": {
    "name": "ipython",
    "version": 3
   },
   "file_extension": ".py",
   "mimetype": "text/x-python",
   "name": "python",
   "nbconvert_exporter": "python",
   "pygments_lexer": "ipython3",
   "version": "3.11.7"
  }
 },
 "nbformat": 4,
 "nbformat_minor": 5
}
